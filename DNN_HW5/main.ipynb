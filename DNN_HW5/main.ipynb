{
    "cells": [
        {
            "cell_type": "markdown",
            "metadata": {},
            "source": [
                "[![Open In Colab](https://colab.research.google.com/assets/colab-badge.svg)](https://colab.research.google.com/github/jun-hyeok/SUP5001-41_Deep-Neural-Networks_2022Spring/blob/main/DNN_HW5/main.ipynb)"
            ]
        },
        {
            "cell_type": "markdown",
            "metadata": {},
            "source": [
                "# DNN HW5 : #9\n",
                "\n",
                "2022.03.23\n",
                "박준혁"
            ]
        },
        {
            "cell_type": "code",
            "execution_count": 1,
            "metadata": {},
            "outputs": [],
            "source": [
                "import numpy as np\n",
                "import torch\n",
                "import torch.nn as nn\n",
                "import torch.nn.functional as F\n",
                "import torch.optim as optim"
            ]
        },
        {
            "cell_type": "markdown",
            "metadata": {},
            "source": [
                "Create XOR dataset with torch.FloatTensor"
            ]
        },
        {
            "cell_type": "code",
            "execution_count": 2,
            "metadata": {},
            "outputs": [],
            "source": [
                "# xor dataset\n",
                "x = torch.FloatTensor([[0, 0], [0, 1], [1, 0], [1, 1]])\n",
                "y = torch.FloatTensor([[0], [1], [1], [0]])"
            ]
        },
        {
            "cell_type": "markdown",
            "metadata": {},
            "source": [
                "1. NN model - 10 hidden layer with 4 nodes each"
            ]
        },
        {
            "cell_type": "code",
            "execution_count": 3,
            "metadata": {},
            "outputs": [],
            "source": [
                "# neural network 10 hidden layers with 4 nodes each\n",
                "class NN10(nn.Module):\n",
                "    def __init__(self):\n",
                "        super().__init__()\n",
                "        self.fc1 = nn.Linear(2, 4, bias=True)\n",
                "        self.fc2 = nn.Linear(4, 4)\n",
                "        self.fc3 = nn.Linear(4, 4)\n",
                "        self.fc4 = nn.Linear(4, 4)\n",
                "        self.fc5 = nn.Linear(4, 4)\n",
                "        self.fc6 = nn.Linear(4, 4)\n",
                "        self.fc7 = nn.Linear(4, 4)\n",
                "        self.fc8 = nn.Linear(4, 4)\n",
                "        self.fc9 = nn.Linear(4, 4)\n",
                "        self.fc10 = nn.Linear(4, 1)\n",
                "\n",
                "    def forward(self, x):\n",
                "        x = F.relu(self.fc1(x))\n",
                "        x = F.relu(self.fc2(x))\n",
                "        x = F.relu(self.fc3(x))\n",
                "        x = F.relu(self.fc4(x))\n",
                "        x = F.relu(self.fc5(x))\n",
                "        x = F.relu(self.fc6(x))\n",
                "        x = F.relu(self.fc7(x))\n",
                "        x = F.relu(self.fc8(x))\n",
                "        x = F.relu(self.fc9(x))\n",
                "        x = F.sigmoid(self.fc10(x))\n",
                "        return x"
            ]
        },
        {
            "cell_type": "code",
            "execution_count": 4,
            "metadata": {},
            "outputs": [
                {
                    "name": "stderr",
                    "output_type": "stream",
                    "text": [
                        "/home/2018311199/anaconda3/lib/python3.8/site-packages/torch/nn/functional.py:1944: UserWarning: nn.functional.sigmoid is deprecated. Use torch.sigmoid instead.\n",
                        "  warnings.warn(\"nn.functional.sigmoid is deprecated. Use torch.sigmoid instead.\")\n"
                    ]
                },
                {
                    "name": "stdout",
                    "output_type": "stream",
                    "text": [
                        "Epoch:    0/10000 Cost: 0.696539\n",
                        "Epoch: 1000/10000 Cost: 0.693147\n",
                        "Epoch: 2000/10000 Cost: 0.693147\n",
                        "Epoch: 3000/10000 Cost: 0.693146\n",
                        "Epoch: 4000/10000 Cost: 0.693146\n",
                        "Epoch: 5000/10000 Cost: 0.693146\n",
                        "Epoch: 6000/10000 Cost: 0.693146\n",
                        "Epoch: 7000/10000 Cost: 0.693146\n",
                        "Epoch: 8000/10000 Cost: 0.693146\n",
                        "Epoch: 9000/10000 Cost: 0.693145\n"
                    ]
                }
            ],
            "source": [
                "nn10 = NN10()\n",
                "optimizer10 = optim.SGD(nn10.parameters(), lr=0.1)\n",
                "epochs = 10000\n",
                "for epoch in range(epochs):\n",
                "    optimizer10.zero_grad()\n",
                "    y_pred10 = nn10(x)\n",
                "    ce10 = F.binary_cross_entropy(y_pred10, y)\n",
                "    ce10.backward()\n",
                "    optimizer10.step()\n",
                "    if epoch % 1000 == 0:\n",
                "        print('Epoch: {:4d}/{}'.format(epoch, epochs),end=\" \")\n",
                "        print('Cost: {:.6f}'.format(ce10.item()))"
            ]
        },
        {
            "cell_type": "markdown",
            "metadata": {},
            "source": [
                "2. NN model - 2 hidden layer with 4 nodes each"
            ]
        },
        {
            "cell_type": "code",
            "execution_count": 5,
            "metadata": {},
            "outputs": [],
            "source": [
                "# neural network 2 hidden layers with 4 nodes each\n",
                "class NN02(nn.Module):\n",
                "    def __init__(self):\n",
                "        super().__init__()\n",
                "        self.fc1 = nn.Linear(2, 4, bias=True)\n",
                "        self.fc2 = nn.Linear(4, 4)\n",
                "        self.fc3 = nn.Linear(4, 1)\n",
                "\n",
                "    def forward(self, x):\n",
                "        x = F.relu(self.fc1(x))\n",
                "        x = F.relu(self.fc2(x))\n",
                "        x = F.sigmoid(self.fc3(x))\n",
                "        return x\n"
            ]
        },
        {
            "cell_type": "code",
            "execution_count": 6,
            "metadata": {},
            "outputs": [
                {
                    "name": "stdout",
                    "output_type": "stream",
                    "text": [
                        "Epoch:    0/10000 Cost: 0.695517\n",
                        "Epoch: 1000/10000 Cost: 0.004104\n",
                        "Epoch: 2000/10000 Cost: 0.001091\n",
                        "Epoch: 3000/10000 Cost: 0.000576\n",
                        "Epoch: 4000/10000 Cost: 0.000378\n",
                        "Epoch: 5000/10000 Cost: 0.000277\n",
                        "Epoch: 6000/10000 Cost: 0.000216\n",
                        "Epoch: 7000/10000 Cost: 0.000176\n",
                        "Epoch: 8000/10000 Cost: 0.000147\n",
                        "Epoch: 9000/10000 Cost: 0.000126\n"
                    ]
                }
            ],
            "source": [
                "nn02 = NN02()\n",
                "optimizer02 = optim.SGD(nn02.parameters(), lr=0.1)\n",
                "epochs = 10000\n",
                "for epoch in range(epochs):\n",
                "    optimizer02.zero_grad()\n",
                "    y_pred02 = nn02(x)\n",
                "    ce02 = F.binary_cross_entropy(y_pred02, y)\n",
                "    ce02.backward()\n",
                "    optimizer02.step()\n",
                "    if epoch % 1000 == 0:\n",
                "        print('Epoch: {:4d}/{}'.format(epoch, epochs),end=\" \")\n",
                "        print('Cost: {:.6f}'.format(ce02.item()))\n"
            ]
        }
    ],
    "metadata": {
        "kernelspec": {
            "display_name": "base",
            "language": "python",
            "name": "base"
        },
        "language_info": {
            "codemirror_mode": {
                "name": "ipython",
                "version": 3
            },
            "file_extension": ".py",
            "mimetype": "text/x-python",
            "name": "python",
            "nbconvert_exporter": "python",
            "pygments_lexer": "ipython3",
            "version": "3.8.5"
        },
        "orig_nbformat": 4
    },
    "nbformat": 4,
    "nbformat_minor": 2
}
